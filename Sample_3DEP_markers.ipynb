{
  "nbformat": 4,
  "nbformat_minor": 0,
  "metadata": {
    "colab": {
      "provenance": [],
      "include_colab_link": true
    },
    "kernelspec": {
      "name": "python3",
      "display_name": "Python 3"
    }
  },
  "cells": [
    {
      "cell_type": "markdown",
      "metadata": {
        "id": "view-in-github",
        "colab_type": "text"
      },
      "source": [
        "<a href=\"https://colab.research.google.com/github/madelineschwarz/QUAKES-processing-scripts/blob/main/Sample_3DEP_markers.ipynb\" target=\"_parent\"><img src=\"https://colab.research.google.com/assets/colab-badge.svg\" alt=\"Open In Colab\"/></a>"
      ]
    },
    {
      "cell_type": "markdown",
      "metadata": {
        "id": "aV1xZ1CPi3Nw"
      },
      "source": [
        "<table class=\"ee-notebook-buttons\" align=\"left\"><td>\n",
        "<a target=\"_blank\"  href=\"http://colab.research.google.com/github/google/earthengine-community/blob/master/guides/linked/ee-api-colab-setup.ipynb\">\n",
        "    <img src=\"https://www.tensorflow.org/images/colab_logo_32px.png\" /> Run in Google Colab</a>\n",
        "</td><td>\n",
        "<a target=\"_blank\"  href=\"https://github.com/google/earthengine-community/blob/master/guides/linked/ee-api-colab-setup.ipynb\"><img width=32px src=\"https://www.tensorflow.org/images/GitHub-Mark-32px.png\" /> View source on GitHub</a></td></table>"
      ]
    },
    {
      "cell_type": "markdown",
      "source": [
        "## Sample 3DEP Elevation for Ground Control Points (GCPs)\n",
        "- QUAKES imagery from initial engineering flights needs manual control points during camera alignment in SFM workflow\n",
        "- Control points need accurate elevation values to properly model topography\n",
        "- USGS 3DEP data provides ~1m elevation coverage available thru GEE\n",
        "\n",
        "Steps:\n",
        "\n",
        "\n",
        "1.   Upload Control points shapefile containing longitude/latitude positions of control points\n",
        "2.   Run notebook\n",
        "3. Download corrected markers from local Collab drive\n",
        "4. Import into SFM software (e.g. Agisoft Metashape)\n",
        "5.  Correct update model transform\n"
      ],
      "metadata": {
        "id": "moLa_XpK4UAY"
      }
    },
    {
      "cell_type": "markdown",
      "metadata": {
        "id": "SNh-QBc36Mvk"
      },
      "source": [
        "### Import the API\n",
        "\n",
        "Run the following cell to import the API into your session."
      ]
    },
    {
      "cell_type": "code",
      "source": [
        "# To use the Google Collab T4 GPU:\n",
        "#import tensorflow as tf\n",
        "# Check GPU availability\n",
        "#print(\"GPU Available:\", tf.config.experimental.list_physical_devices(\"GPU\"))"
      ],
      "metadata": {
        "colab": {
          "base_uri": "https://localhost:8080/",
          "height": 17
        },
        "id": "qGcZPPQvzmCF",
        "outputId": "54467065-679b-424c-a362-4b00343e028d"
      },
      "execution_count": 9,
      "outputs": [
        {
          "output_type": "display_data",
          "data": {
            "text/plain": [
              "<IPython.core.display.HTML object>"
            ],
            "text/html": [
              "\n",
              "            <style>\n",
              "                .geemap-dark {\n",
              "                    --jp-widgets-color: white;\n",
              "                    --jp-widgets-label-color: white;\n",
              "                    --jp-ui-font-color1: white;\n",
              "                    --jp-layout-color2: #454545;\n",
              "                    background-color: #383838;\n",
              "                }\n",
              "\n",
              "                .geemap-dark .jupyter-button {\n",
              "                    --jp-layout-color3: #383838;\n",
              "                }\n",
              "\n",
              "                .geemap-colab {\n",
              "                    background-color: var(--colab-primary-surface-color, white);\n",
              "                }\n",
              "\n",
              "                .geemap-colab .jupyter-button {\n",
              "                    --jp-layout-color3: var(--colab-primary-surface-color, white);\n",
              "                }\n",
              "            </style>\n",
              "            "
            ]
          },
          "metadata": {}
        }
      ]
    },
    {
      "cell_type": "code",
      "metadata": {
        "id": "65RChERMzQHZ",
        "colab": {
          "base_uri": "https://localhost:8080/",
          "height": 17
        },
        "outputId": "44fff5d0-31c0-463c-f9c4-27ae08dadc19"
      },
      "source": [
        "import ee\n",
        "import geopandas\n",
        "import geemap\n",
        "import geopandas as gpd\n",
        "from shapely.geometry import box\n",
        "from shapely.geometry import Point\n",
        "import numpy as np\n",
        "# Trigger the authentication flow.\n",
        "ee.Authenticate()\n",
        "\n",
        "# Initialize the library.\n",
        "ee.Initialize(project='iron-atom-398503')"
      ],
      "execution_count": 10,
      "outputs": [
        {
          "output_type": "display_data",
          "data": {
            "text/plain": [
              "<IPython.core.display.HTML object>"
            ],
            "text/html": [
              "\n",
              "            <style>\n",
              "                .geemap-dark {\n",
              "                    --jp-widgets-color: white;\n",
              "                    --jp-widgets-label-color: white;\n",
              "                    --jp-ui-font-color1: white;\n",
              "                    --jp-layout-color2: #454545;\n",
              "                    background-color: #383838;\n",
              "                }\n",
              "\n",
              "                .geemap-dark .jupyter-button {\n",
              "                    --jp-layout-color3: #383838;\n",
              "                }\n",
              "\n",
              "                .geemap-colab {\n",
              "                    background-color: var(--colab-primary-surface-color, white);\n",
              "                }\n",
              "\n",
              "                .geemap-colab .jupyter-button {\n",
              "                    --jp-layout-color3: var(--colab-primary-surface-color, white);\n",
              "                }\n",
              "            </style>\n",
              "            "
            ]
          },
          "metadata": {}
        }
      ]
    },
    {
      "cell_type": "code",
      "source": [
        "# function to sample 3DEP data using gdf points\n",
        "def sample_3dep_data(gdf):\n",
        "    # Load the 3DEP DEM ImageCollection\n",
        "    dem_collection = ee.ImageCollection(\"USGS/3DEP/1m\")\n",
        "\n",
        "    # Convert the GeoDataFrame to an Earth Engine FeatureCollection\n",
        "    ee_points = geemap.geopandas_to_ee(gdf)\n",
        "    ee_points = ee.FeatureCollection(ee_points)\n",
        "\n",
        "    # Convert the image collection into an image by mosaicking (to avoid multiple samples per point)\n",
        "      #The mosaic() method composites overlapping images according to their order in the collection (last on top).\n",
        "      # For this use case, we want the most recent lidar survey (1m)\n",
        "    dem_image = dem_collection.mosaic()\n",
        "\n",
        "    # Define a function to sample elevation, latitude, and longitude values at the points\n",
        "    def sample_at_points(feature):\n",
        "        # Sample elevation at the given point\n",
        "        sampled_point = dem_image.sample(\n",
        "            region=feature.geometry(),\n",
        "            scale=1,  # 1-meter scale for 1-meter DEM data\n",
        "            geometries=True  # Include the point geometry in the output\n",
        "        ).first()  # Get the first (and only) sampled point\n",
        "\n",
        "        # Get elevation value and set it as a property\n",
        "        elevation = sampled_point.get(\"elevation\")\n",
        "        return feature.set({\"elevation\": elevation})\n",
        "\n",
        "    # Map the sampling function over the FeatureCollection\n",
        "    sampled_points = ee_points.map(sample_at_points)\n",
        "\n",
        "    # Convert the result back to a GeoDataFrame\n",
        "    extracted_gdf = gpd.GeoDataFrame.from_features(sampled_points.getInfo())\n",
        "\n",
        "    return extracted_gdf"
      ],
      "metadata": {
        "id": "ApIZAclQ_WgM",
        "colab": {
          "base_uri": "https://localhost:8080/",
          "height": 17
        },
        "outputId": "23696cba-99b7-4cf3-a489-9b4ff0c6b470"
      },
      "execution_count": 11,
      "outputs": [
        {
          "output_type": "display_data",
          "data": {
            "text/plain": [
              "<IPython.core.display.HTML object>"
            ],
            "text/html": [
              "\n",
              "            <style>\n",
              "                .geemap-dark {\n",
              "                    --jp-widgets-color: white;\n",
              "                    --jp-widgets-label-color: white;\n",
              "                    --jp-ui-font-color1: white;\n",
              "                    --jp-layout-color2: #454545;\n",
              "                    background-color: #383838;\n",
              "                }\n",
              "\n",
              "                .geemap-dark .jupyter-button {\n",
              "                    --jp-layout-color3: #383838;\n",
              "                }\n",
              "\n",
              "                .geemap-colab {\n",
              "                    background-color: var(--colab-primary-surface-color, white);\n",
              "                }\n",
              "\n",
              "                .geemap-colab .jupyter-button {\n",
              "                    --jp-layout-color3: var(--colab-primary-surface-color, white);\n",
              "                }\n",
              "            </style>\n",
              "            "
            ]
          },
          "metadata": {}
        }
      ]
    },
    {
      "cell_type": "code",
      "source": [
        "# View the sampled elevation points\n",
        "# Conversion from gdf to ee object lost the geometry, lat, long columns\n",
        "markers = gpd.read_file('small_cala_markers.shp')\n",
        "#print(markers.crs)\n",
        "#print(markers.head)\n",
        "\n",
        "new_geom = gpd.points_from_xy(markers.geometry.x, markers.geometry.y, z=None, crs=\"EPSG:4326\" )\n",
        "\n",
        "new_markers = gpd.GeoDataFrame(geometry = new_geom, crs=\"EPSG:4326\")\n",
        "#print(new_markers.head\n",
        "print(type(new_markers))\n",
        "print(new_markers)\n",
        "print(new_markers.crs)"
      ],
      "metadata": {
        "id": "rbhlCXcJFn62",
        "colab": {
          "base_uri": "https://localhost:8080/",
          "height": 243
        },
        "outputId": "88302a6f-9557-4026-af8e-b881684f71a6"
      },
      "execution_count": 12,
      "outputs": [
        {
          "output_type": "display_data",
          "data": {
            "text/plain": [
              "<IPython.core.display.HTML object>"
            ],
            "text/html": [
              "\n",
              "            <style>\n",
              "                .geemap-dark {\n",
              "                    --jp-widgets-color: white;\n",
              "                    --jp-widgets-label-color: white;\n",
              "                    --jp-ui-font-color1: white;\n",
              "                    --jp-layout-color2: #454545;\n",
              "                    background-color: #383838;\n",
              "                }\n",
              "\n",
              "                .geemap-dark .jupyter-button {\n",
              "                    --jp-layout-color3: #383838;\n",
              "                }\n",
              "\n",
              "                .geemap-colab {\n",
              "                    background-color: var(--colab-primary-surface-color, white);\n",
              "                }\n",
              "\n",
              "                .geemap-colab .jupyter-button {\n",
              "                    --jp-layout-color3: var(--colab-primary-surface-color, white);\n",
              "                }\n",
              "            </style>\n",
              "            "
            ]
          },
          "metadata": {}
        },
        {
          "output_type": "stream",
          "name": "stdout",
          "text": [
            "<class 'geopandas.geodataframe.GeoDataFrame'>\n",
            "                      geometry\n",
            "0  POINT (-121.54399 37.07711)\n",
            "1  POINT (-121.51009 37.04813)\n",
            "2   POINT (-121.49128 37.0014)\n",
            "3  POINT (-121.46934 36.97692)\n",
            "4  POINT (-121.44633 36.98628)\n",
            "5  POINT (-121.39954 36.88928)\n",
            "6  POINT (-121.43487 36.94155)\n",
            "7  POINT (-121.38565 36.82688)\n",
            "8  POINT (-121.42655 36.77622)\n",
            "9  POINT (-121.35852 36.78787)\n",
            "EPSG:4326\n"
          ]
        }
      ]
    },
    {
      "cell_type": "code",
      "source": [
        "# Convert GeoDataFrame to Earth Engine objects\n",
        "samples_from_new_markers = sample_3dep_data(new_markers)\n",
        "print(samples_from_new_markers)\n",
        "\n"
      ],
      "metadata": {
        "id": "bLcW2s8Ox4BK",
        "colab": {
          "base_uri": "https://localhost:8080/",
          "height": 208
        },
        "outputId": "9275dacf-c9c0-4460-cfa1-37ced85043c8"
      },
      "execution_count": 13,
      "outputs": [
        {
          "output_type": "display_data",
          "data": {
            "text/plain": [
              "<IPython.core.display.HTML object>"
            ],
            "text/html": [
              "\n",
              "            <style>\n",
              "                .geemap-dark {\n",
              "                    --jp-widgets-color: white;\n",
              "                    --jp-widgets-label-color: white;\n",
              "                    --jp-ui-font-color1: white;\n",
              "                    --jp-layout-color2: #454545;\n",
              "                    background-color: #383838;\n",
              "                }\n",
              "\n",
              "                .geemap-dark .jupyter-button {\n",
              "                    --jp-layout-color3: #383838;\n",
              "                }\n",
              "\n",
              "                .geemap-colab {\n",
              "                    background-color: var(--colab-primary-surface-color, white);\n",
              "                }\n",
              "\n",
              "                .geemap-colab .jupyter-button {\n",
              "                    --jp-layout-color3: var(--colab-primary-surface-color, white);\n",
              "                }\n",
              "            </style>\n",
              "            "
            ]
          },
          "metadata": {}
        },
        {
          "output_type": "stream",
          "name": "stdout",
          "text": [
            "                      geometry   elevation\n",
            "0  POINT (-121.54399 37.07711)  177.211105\n",
            "1  POINT (-121.51009 37.04813)  152.014099\n",
            "2   POINT (-121.49128 37.0014)   70.559555\n",
            "3  POINT (-121.46934 36.97692)   45.418488\n",
            "4  POINT (-121.44633 36.98628)   51.099346\n",
            "5  POINT (-121.39954 36.88928)   69.836609\n",
            "6  POINT (-121.43487 36.94155)   49.952000\n",
            "7  POINT (-121.38565 36.82688)  102.577728\n",
            "8  POINT (-121.42655 36.77622)  296.502930\n",
            "9  POINT (-121.35852 36.78787)  122.844910\n"
          ]
        }
      ]
    },
    {
      "cell_type": "code",
      "source": [
        "# write new points file that includes newly sampled elevation values\n",
        "# create point geometry with long, lat, and 3DEP elevation values\n",
        "elev_markers = gpd.points_from_xy(markers.geometry.x, markers.geometry.y, z=samples_from_new_markers['elevation'], crs=\"EPSG:4326\" )\n",
        "print(elev_markers)\n",
        "\n",
        "elev_markers = gpd.GeoDataFrame(geometry = elev_markers, crs=\"EPSG:4326\")\n",
        "print(elev_markers)\n",
        "# export elevation markers as a shapefile\n",
        "elev_markers.to_file('elev_markers.shp')\n"
      ],
      "metadata": {
        "colab": {
          "base_uri": "https://localhost:8080/",
          "height": 329
        },
        "id": "6ti1CAKMn6Rc",
        "outputId": "c11838a4-fecf-4ca0-d088-995d09498c3f"
      },
      "execution_count": 14,
      "outputs": [
        {
          "output_type": "display_data",
          "data": {
            "text/plain": [
              "<IPython.core.display.HTML object>"
            ],
            "text/html": [
              "\n",
              "            <style>\n",
              "                .geemap-dark {\n",
              "                    --jp-widgets-color: white;\n",
              "                    --jp-widgets-label-color: white;\n",
              "                    --jp-ui-font-color1: white;\n",
              "                    --jp-layout-color2: #454545;\n",
              "                    background-color: #383838;\n",
              "                }\n",
              "\n",
              "                .geemap-dark .jupyter-button {\n",
              "                    --jp-layout-color3: #383838;\n",
              "                }\n",
              "\n",
              "                .geemap-colab {\n",
              "                    background-color: var(--colab-primary-surface-color, white);\n",
              "                }\n",
              "\n",
              "                .geemap-colab .jupyter-button {\n",
              "                    --jp-layout-color3: var(--colab-primary-surface-color, white);\n",
              "                }\n",
              "            </style>\n",
              "            "
            ]
          },
          "metadata": {}
        },
        {
          "output_type": "stream",
          "name": "stdout",
          "text": [
            "<GeometryArray>\n",
            "[<POINT Z (-121.544 37.077 177.211)>,  <POINT Z (-121.51 37.048 152.014)>,\n",
            "   <POINT Z (-121.491 37.001 70.56)>,  <POINT Z (-121.469 36.977 45.418)>,\n",
            "  <POINT Z (-121.446 36.986 51.099)>,    <POINT Z (-121.4 36.889 69.837)>,\n",
            "  <POINT Z (-121.435 36.942 49.952)>, <POINT Z (-121.386 36.827 102.578)>,\n",
            " <POINT Z (-121.427 36.776 296.503)>, <POINT Z (-121.359 36.788 122.845)>]\n",
            "Length: 10, dtype: geometry\n",
            "                                  geometry\n",
            "0  POINT Z (-121.54399 37.07711 177.21111)\n",
            "1   POINT Z (-121.51009 37.04813 152.0141)\n",
            "2    POINT Z (-121.49128 37.0014 70.55956)\n",
            "3   POINT Z (-121.46934 36.97692 45.41849)\n",
            "4   POINT Z (-121.44633 36.98628 51.09935)\n",
            "5   POINT Z (-121.39954 36.88928 69.83661)\n",
            "6     POINT Z (-121.43487 36.94155 49.952)\n",
            "7  POINT Z (-121.38565 36.82688 102.57773)\n",
            "8  POINT Z (-121.42655 36.77622 296.50293)\n",
            "9  POINT Z (-121.35852 36.78787 122.84491)\n"
          ]
        }
      ]
    },
    {
      "cell_type": "code",
      "source": [
        "# convert shp to csv and xml format for Metashape\n",
        "elev_markers_to_write = gpd.GeoDataFrame()\n",
        "elev_markers_to_write['Longitude'] = markers.geometry.x\n",
        "elev_markers_to_write['Latitude'] = markers.geometry.y\n",
        "elev_markers_to_write['Elevation'] = samples_from_new_markers['elevation']\n",
        "print(elev_markers_to_write)\n",
        "elev_markers_to_write.to_csv('elev_markers.csv')"
      ],
      "metadata": {
        "id": "OZS2dse3nWgl"
      },
      "execution_count": null,
      "outputs": []
    },
    {
      "cell_type": "code",
      "source": [],
      "metadata": {
        "id": "mmhz4B13qxfw"
      },
      "execution_count": null,
      "outputs": []
    }
  ]
}